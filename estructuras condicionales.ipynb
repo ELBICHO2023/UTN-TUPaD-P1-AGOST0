{
 "cells": [
  {
   "cell_type": "code",
   "execution_count": null,
   "id": "c366bee7",
   "metadata": {},
   "outputs": [],
   "source": [
    "# Programa que solicita la edad y dice si es mayor de edad\n",
    "edad = int(input(\"Ingrese su edad: \"))\n",
    "\n",
    "if edad >= 18:\n",
    "    print(\"Es mayor de edad\")\n",
    "else:\n",
    "    print(\"Es menor de edad\")\n"
   ]
  },
  {
   "cell_type": "code",
   "execution_count": null,
   "id": "4cd871c3",
   "metadata": {},
   "outputs": [],
   "source": [
    "# Programa que solicita la nota y dice si aprobó o desaprobó\n",
    "nota = int(input(\"Ingrese su nota: \"))\n",
    "\n",
    "if nota >= 6:\n",
    "    print(\"Aprobado\")\n",
    "else:\n",
    "    print(\"Desaprobado\")\n"
   ]
  },
  {
   "cell_type": "code",
   "execution_count": null,
   "id": "3ca8445c",
   "metadata": {},
   "outputs": [],
   "source": [
    "# Programa que verifica si el número ingresado es par o impar\n",
    "numero = int(input(\"Ingrese un número: \"))\n",
    "\n",
    "if numero % 2 == 0:\n",
    "    print(\"Ha ingresado un número par\")\n",
    "else:\n",
    "    print(\"Por favor, ingrese un número par\")\n"
   ]
  },
  {
   "cell_type": "code",
   "execution_count": null,
   "id": "35538c25",
   "metadata": {},
   "outputs": [],
   "source": [
    "# Programa que clasifica a la persona según su edad\n",
    "edad = int(input(\"Ingrese su edad: \"))\n",
    "\n",
    "if edad < 12:\n",
    "    print(\"Niño/a\")\n",
    "elif edad >= 12 and edad < 18:\n",
    "    print(\"Adolescente\")\n",
    "elif edad >= 18 and edad < 30:\n",
    "    print(\"Adulto joven\")\n",
    "else:\n",
    "    print(\"Adulto/a\")\n"
   ]
  }
 ],
 "metadata": {
  "language_info": {
   "name": "python"
  }
 },
 "nbformat": 4,
 "nbformat_minor": 5
}
